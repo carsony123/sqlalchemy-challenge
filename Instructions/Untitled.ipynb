{
 "cells": [
  {
   "cell_type": "code",
   "execution_count": 1,
   "id": "9e24865e",
   "metadata": {},
   "outputs": [],
   "source": [
    "# Import dependencies\n",
    "import numpy as np\n",
    "import pandas as pd\n",
    "import datetime as dt\n",
    "from sqlalchemy import create_engine, func\n",
    "from sqlalchemy.orm import Session\n",
    "from sqlalchemy.ext.automap import automap_base\n",
    "from flask import Flask, jsonify\n"
   ]
  },
  {
   "cell_type": "code",
   "execution_count": 2,
   "id": "44f4c1cd",
   "metadata": {},
   "outputs": [],
   "source": [
    "# Database setup\n",
    "engine = create_engine(\"sqlite:///Resources/hawaii.sqlite\")\n",
    "Base = automap_base()\n",
    "Base.prepare(engine, reflect=True)\n",
    "Measurement = Base.classes.measurement\n",
    "Station = Base.classes.station\n",
    "session = Session(engine)"
   ]
  },
  {
   "cell_type": "code",
   "execution_count": 3,
   "id": "a9181469",
   "metadata": {},
   "outputs": [],
   "source": [
    "# Flask setup\n",
    "app = Flask(__name__)\n",
    "\n",
    "# Flask routes\n",
    "@app.route(\"/\")\n",
    "def home():\n",
    "    \"\"\"List all available api routes.\"\"\"\n",
    "    return (\n",
    "        f\"Available Routes:<br/>\"\n",
    "        f\"/api/v1.0/precipitation<br/>\"\n",
    "        f\"/api/v1.0/stations<br/>\"\n",
    "        f\"/api/v1.0/tobs<br/>\"\n",
    "        f\"/api/v1.0/&lt;start&gt;<br/>\"\n",
    "        f\"/api/v1.0/&lt;start&gt;/&lt;end&gt;\"\n",
    "    )"
   ]
  },
  {
   "cell_type": "code",
   "execution_count": 4,
   "id": "0635c804",
   "metadata": {},
   "outputs": [],
   "source": [
    "@app.route(\"/api/v1.0/precipitation\")\n",
    "def precipitation():\n",
    "    \"\"\"Return the precipitation data for the last 12 months.\"\"\"\n",
    "    last_year_date = dt.date(2017, 8, 23) - dt.timedelta(days=365)\n",
    "    precipitation_data = (\n",
    "        session.query(Measurement.date, Measurement.prcp)\n",
    "        .filter(Measurement.date >= last_year_date)\n",
    "        .order_by(Measurement.date)\n",
    "        .all()\n",
    "    )\n",
    "    precipitation_dict = {}\n",
    "    for result in precipitation_data:\n",
    "        precipitation_dict[result[0]] = result[1]\n",
    "    return jsonify(precipitation_dict)"
   ]
  },
  {
   "cell_type": "code",
   "execution_count": 5,
   "id": "819d9bfe",
   "metadata": {},
   "outputs": [],
   "source": [
    "@app.route(\"/api/v1.0/stations\")\n",
    "def stations():\n",
    "    \"\"\"Return a list of stations from the dataset.\"\"\"\n",
    "    station_data = session.query(Station.name, Station.station).all()\n",
    "    station_list = []\n",
    "    for result in station_data:\n",
    "        station_list.append({\"Name\": result[0], \"Station\": result[1]})\n",
    "    return jsonify(station_list)"
   ]
  },
  {
   "cell_type": "code",
   "execution_count": 6,
   "id": "9225d1f5",
   "metadata": {},
   "outputs": [],
   "source": [
    "@app.route(\"/api/v1.0/tobs\")\n",
    "def tobs():\n",
    "    \"\"\"Return the temperature observation data for the most active station for the last 12 months.\"\"\"\n",
    "    last_year_date = dt.date(2017, 8, 23) - dt.timedelta(days=365)\n",
    "    most_active_station = (\n",
    "        session.query(Measurement.station, func.count(Measurement.station))\n",
    "        .group_by(Measurement.station)\n",
    "        .order_by(func.count(Measurement.station).desc())\n",
    "        .first()[0]\n",
    "    )\n",
    "    temperature_data = (\n",
    "        session.query(Measurement.date, Measurement.tobs)\n",
    "        .filter(Measurement.station == most_active_station)\n",
    "        .filter(Measurement.date >= last_year_date)\n",
    "        .all()\n",
    "    )\n",
    "    temperature_list = []\n",
    "    for result in temperature_data:\n",
    "        temperature_list.append({\"Date\": result[0], \"Temperature\": result[1]})\n",
    "    return jsonify(temperature_list)"
   ]
  },
  {
   "cell_type": "code",
   "execution_count": 7,
   "id": "51ab2324",
   "metadata": {},
   "outputs": [],
   "source": [
    "@app.route(\"/api/v1.0/<start>\")\n",
    "def temp_range_start(start):\n",
    "    # Query the database\n",
    "    temp_stats = session.query(func.min(Measurement.tobs), func.avg(Measurement.tobs), func.max(Measurement.tobs)).\\\n",
    "                filter(Measurement.date >= start).all()\n",
    "    session.close() \n",
    "    # Convert the query results to a list\n",
    "    temp_stats_list = list(np.ravel(temp_stats))\n",
    "    \n",
    "    # Return the JSON representation of the list\n",
    "    return jsonify(temp_stats_list)"
   ]
  },
  {
   "cell_type": "code",
   "execution_count": 8,
   "id": "96ad6536",
   "metadata": {},
   "outputs": [],
   "source": [
    "@app.route(\"/api/v1.0/<start>/<end>\")\n",
    "def temp_range_start_end(start, end):\n",
    "    # Query the database for the minimum, average, and maximum temperatures for all dates between the start and end dates, inclusive\n",
    "    temp_stats = session.query(func.min(Measurement.tobs), func.avg(Measurement.tobs), func.max(Measurement.tobs)).\\\n",
    "                filter(Measurement.date >= start).filter(Measurement.date <= end).all()\n",
    "    \n",
    "    # Close the session link after the query is complete\n",
    "    session.close()\n",
    "    \n",
    "    # Convert the query results to a list\n",
    "    temp_stats_list = list(np.ravel(temp_stats))\n",
    "    \n",
    "    # Return the JSON representation of the list\n",
    "    return jsonify(temp_stats_list)\n"
   ]
  },
  {
   "cell_type": "code",
   "execution_count": null,
   "id": "497c7a99",
   "metadata": {},
   "outputs": [],
   "source": []
  }
 ],
 "metadata": {
  "kernelspec": {
   "display_name": "PythonData",
   "language": "python",
   "name": "pythondata"
  },
  "language_info": {
   "codemirror_mode": {
    "name": "ipython",
    "version": 3
   },
   "file_extension": ".py",
   "mimetype": "text/x-python",
   "name": "python",
   "nbconvert_exporter": "python",
   "pygments_lexer": "ipython3",
   "version": "3.9.13"
  }
 },
 "nbformat": 4,
 "nbformat_minor": 5
}
